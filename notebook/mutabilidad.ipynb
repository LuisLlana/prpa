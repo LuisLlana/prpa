{
 "cells": [
  {
   "cell_type": "markdown",
   "metadata": {},
   "source": [
    "## Objetos mutables e inmutables\n",
    "\n",
    "Si necesitamos trabajar con horas, podemos hacerlo usando tres variables.\n",
    "Por ejemplo si son las 14:30:00 podemos asignar tres variables:"
   ]
  },
  {
   "cell_type": "code",
   "execution_count": 24,
   "metadata": {},
   "outputs": [],
   "source": [
    "h, m, s = 23, 59, 0"
   ]
  },
  {
   "cell_type": "markdown",
   "metadata": {},
   "source": [
    "Si ahora ha pasado un cierto periodo de tiempo `ds`, expresado en segundos nuestra hora será ¿?.\n",
    "\n",
    "Merece la pena tomarse la molestia de escribir una función para resolver el problema"
   ]
  },
  {
   "cell_type": "code",
   "execution_count": 25,
   "metadata": {},
   "outputs": [],
   "source": [
    "def inc_time(h, m, s, es):\n",
    "    \"\"\" \n",
    "    Function increasing time coded by h,m,s\n",
    "    in es (elapsed time) seconds.\n",
    "\n",
    "\n",
    "    Parameters\n",
    "    ------------------------------------\n",
    "    h:int\n",
    "    m:int\n",
    "    s:int\n",
    "    es:int elapsed seconds\n",
    "    \n",
    "\n",
    "    h,m,s fulfill \"invariant representation\", i.e\n",
    "    0<=h<24 and 0<=m<60 and 0<=s<60\n",
    "    es >= 0   \n",
    "\n",
    "    Returns\n",
    "    ----------------------------------------\n",
    "    h,m,s increased accordingly\n",
    "\n",
    "    Example\n",
    "    ------------------------\n",
    "    >>> inc_time(23,59,0,240)\n",
    "    (0, 3, 0)\n",
    "    \"\"\"\n",
    "    h1, m1, s1 = h, m, s+es\n",
    "    if s1 > 59:\n",
    "        m1 = m + s1/60\n",
    "        s1 = s1%60\n",
    "        if m1 > 59:\n",
    "            h1 = h + m1/60\n",
    "            m1 = m1%60\n",
    "            if h1 >= 24:\n",
    "                h1 = h1%24\n",
    "    return h1, m1, s1\n",
    "    "
   ]
  },
  {
   "cell_type": "markdown",
   "metadata": {},
   "source": [
    "Así podemos actualizar nuestras variables para representar la hora al pasar 240 segundos."
   ]
  },
  {
   "cell_type": "code",
   "execution_count": 26,
   "metadata": {},
   "outputs": [
    {
     "data": {
      "text/plain": [
       "(0.05000000000000071, 3.0, 0)"
      ]
     },
     "execution_count": 26,
     "metadata": {},
     "output_type": "execute_result"
    }
   ],
   "source": [
    "inc_time(23,59,0,240)"
   ]
  },
  {
   "cell_type": "code",
   "execution_count": 27,
   "metadata": {},
   "outputs": [
    {
     "data": {
      "text/plain": [
       "(0.05000000000000071, 3.0, 0)"
      ]
     },
     "execution_count": 27,
     "metadata": {},
     "output_type": "execute_result"
    }
   ],
   "source": [
    "h, m, s = inc_time(h, m, s, 240)\n",
    "h, m, s"
   ]
  },
  {
   "cell_type": "markdown",
   "metadata": {},
   "source": [
    "Usando listas podemos *unir* las cosas en una única variable."
   ]
  },
  {
   "cell_type": "code",
   "execution_count": 28,
   "metadata": {},
   "outputs": [],
   "source": [
    "time = [14, 30, 0]"
   ]
  },
  {
   "cell_type": "code",
   "execution_count": 29,
   "metadata": {},
   "outputs": [],
   "source": [
    "def inc_time1(t, es):\n",
    "    \"\"\" \n",
    "    Function increasing time coded by list of values t=[h,m,s]\n",
    "    in es (elapsed time)  seconds.\n",
    "    Changes occur in t parameter!\n",
    "\n",
    "\n",
    "    Parameters\n",
    "    ------------------------------------\n",
    "    t=[int]\n",
    "    es: elapsed seconds\n",
    "    \n",
    "\n",
    "    len(t) = 3 and members fullfill \"invariant representation\"\n",
    "    0<=t[0]<24 and 0<=t[1]<60 and 0<=t[2]<60\n",
    "    es >= 0   \n",
    "\n",
    "    Returns\n",
    "    ----------------------------------------\n",
    "    NoneType\n",
    "\n",
    "    Example\n",
    "    ------------------------\n",
    "    >>> t=[23,59,0]\n",
    "    >>> inc_time(t,240)\n",
    "    >>> t\n",
    "    \"\"\"\n",
    "    t[2] = t[2] + es\n",
    "    if t[2] > 59:\n",
    "        t[1] = t[1] + t[2]/60\n",
    "        t[2] = t[2]%60\n",
    "        if t[1] > 59:\n",
    "            t[0] = t[0] + t[1]/60\n",
    "            t[1] = t[1]%60\n",
    "            if t[0] >= 24:\n",
    "                t[0] = t[0]%24"
   ]
  },
  {
   "cell_type": "code",
   "execution_count": 30,
   "metadata": {},
   "outputs": [
    {
     "data": {
      "text/plain": [
       "[14, 34.0, 0]"
      ]
     },
     "execution_count": 30,
     "metadata": {},
     "output_type": "execute_result"
    }
   ],
   "source": [
    "inc_time1(time, 240)\n",
    "time"
   ]
  },
  {
   "cell_type": "markdown",
   "metadata": {},
   "source": [
    "Observa dos cosas:\n",
    "\n",
    "* `inc_time1` no tiene `return`\n",
    "\n",
    "* no hay asignación en la instrucción anterior.\n",
    "\n",
    "\n",
    "La función inc_time1 se encarga de cambiar la lista a la que se refiere la variable `time` (ya hemos hecho cosas parecidas con funciones que transformaban imágenes).\n",
    "\n",
    "¡Parece cómodo!, ¿podíamos haber hecho lo mismo con `inc_time`?"
   ]
  },
  {
   "cell_type": "code",
   "execution_count": 31,
   "metadata": {},
   "outputs": [],
   "source": [
    "def bad_inc_time(h,m,s,es):\n",
    "    \"\"\" \n",
    "    Faulty Function trying to increase time coded by h,m,s\n",
    "    in es (elapsed time)  seconds.\n",
    "    Changes _should_ occur in h,m,s arguments (they won't) \n",
    "\n",
    "\n",
    "    Parameters\n",
    "    ------------------------------------\n",
    "    t=[int]\n",
    "    es: elapsed seconds\n",
    "    \n",
    "\n",
    "    0<=h<24 and 0<=m<60 and 0<=s<60\n",
    "    es >= 0   \n",
    "\n",
    "    Returns\n",
    "    ----------------------------------------\n",
    "    NoneType\n",
    "\n",
    "    Example\n",
    "    ------------------------\n",
    "    >>> h,m,s=23,59,0\n",
    "    >>> inc_time(h,m,s,240)\n",
    "    >>> h,m,s\n",
    "    \"\"\"\n",
    "    s = s + es\n",
    "    if s > 59:\n",
    "        m = m + s/60\n",
    "        s = s%60\n",
    "        if m > 59:\n",
    "            h = h + m/60\n",
    "            m = m%60\n",
    "            if h >= 24:\n",
    "                h = h%24"
   ]
  },
  {
   "cell_type": "code",
   "execution_count": 32,
   "metadata": {},
   "outputs": [
    {
     "data": {
      "text/plain": [
       "(14, 30, 0)"
      ]
     },
     "execution_count": 32,
     "metadata": {},
     "output_type": "execute_result"
    }
   ],
   "source": [
    "h,m,s=14,30,0\n",
    "bad_inc_time(h,m,s,240)\n",
    "h,m,s"
   ]
  },
  {
   "cell_type": "markdown",
   "metadata": {},
   "source": [
    "La respuesta es no: los nombres de los parámetros y las variables de las funciones tienen *ámbito local*. \n",
    "\n",
    "La razón de conseguir el efecto en el caso de la lista es que **las listas son *mutables*.** \n",
    "\n",
    "Aunque el nombre del parametro de una lista sea local, las referencias a los objetos que contienen puede ser cambiadas! Como son las mismas dentro y fuera de la función, el resultado es que la estructura 'parece' haber cambiado en su interior.\n",
    "\n",
    "\n",
    "<img src='img/referencias.png' alt=''>\n",
    "\n",
    "En cambio, un tipo de datos cercano a la lista, la tupla, no es mutable!!! Igual en el caso de las cadenas de caracteres!\n"
   ]
  },
  {
   "cell_type": "markdown",
   "metadata": {},
   "source": [
    "Podemos utilizar la siguiente herramienta on-line para visualizar lo que ocurre:\n",
    "\n",
    "http://pythontutor.com/visualize.html#mode=edit\n"
   ]
  },
  {
   "cell_type": "markdown",
   "metadata": {},
   "source": [
    "Hay otro tipo de situaciones en que hay que tener cuidado con el hecho de que las \n",
    "variables son referencias.\n",
    "\n",
    "Para representar una matriz construimos una lista de listas:"
   ]
  },
  {
   "cell_type": "code",
   "execution_count": 33,
   "metadata": {},
   "outputs": [],
   "source": [
    "matrix=[[0,0,0],[0,0,0],[0,0,0]]"
   ]
  },
  {
   "cell_type": "code",
   "execution_count": 34,
   "metadata": {},
   "outputs": [
    {
     "data": {
      "text/plain": [
       "[[0, 0, 23], [0, 0, 0], [0, 0, 0]]"
      ]
     },
     "execution_count": 34,
     "metadata": {},
     "output_type": "execute_result"
    }
   ],
   "source": [
    "matrix[0][2] = 23\n",
    "matrix"
   ]
  },
  {
   "cell_type": "code",
   "execution_count": 35,
   "metadata": {},
   "outputs": [
    {
     "data": {
      "text/plain": [
       "3"
      ]
     },
     "execution_count": 35,
     "metadata": {},
     "output_type": "execute_result"
    }
   ],
   "source": [
    "x = matrix[1][2] + 3\n",
    "x"
   ]
  },
  {
   "cell_type": "code",
   "execution_count": 36,
   "metadata": {},
   "outputs": [],
   "source": [
    "def bad_zero_matrix(n,m):\n",
    "    \"\"\" \n",
    "    Function returning a zero matrix, with m rows y n columns\n",
    "\n",
    "    Parameters\n",
    "    ------------------------------------\n",
    "    n:int\n",
    "    m:int\n",
    "\n",
    "    n,m >= 0\n",
    "    \n",
    "    Returns\n",
    "    ----------------------------------------\n",
    "    [[int]]  (See, however, how they are internally represented!)\n",
    "    \n",
    "    \n",
    "    Example\n",
    "    ------------------------\n",
    "    >>> bad_zero_matrix(3,4)\n",
    "    [[0, 0, 0], [0, 0, 0], [0, 0, 0], [0, 0, 0]]\n",
    "    \"\"\"    \n",
    "    return [[0]*n]*m"
   ]
  },
  {
   "cell_type": "code",
   "execution_count": 37,
   "metadata": {},
   "outputs": [
    {
     "data": {
      "text/plain": [
       "[[0, 0, 0], [0, 0, 0], [0, 0, 0], [0, 0, 0]]"
      ]
     },
     "execution_count": 37,
     "metadata": {},
     "output_type": "execute_result"
    }
   ],
   "source": [
    "m = bad_zero_matrix(3,4)\n",
    "m"
   ]
  },
  {
   "cell_type": "code",
   "execution_count": 38,
   "metadata": {},
   "outputs": [],
   "source": [
    "m[0][0] = 1"
   ]
  },
  {
   "cell_type": "code",
   "execution_count": 39,
   "metadata": {},
   "outputs": [
    {
     "data": {
      "text/plain": [
       "[[1, 0, 0], [1, 0, 0], [1, 0, 0], [1, 0, 0]]"
      ]
     },
     "execution_count": 39,
     "metadata": {},
     "output_type": "execute_result"
    }
   ],
   "source": [
    "m"
   ]
  },
  {
   "cell_type": "code",
   "execution_count": 40,
   "metadata": {},
   "outputs": [],
   "source": [
    "def zero_matrix(n,m):\n",
    "    \"\"\" \n",
    "    Function returning a zero matrix, with n rows y m columns\n",
    "\n",
    "    Parameters\n",
    "    ------------------------------------\n",
    "    n:int\n",
    "    m:int\n",
    "\n",
    "    n,m >= 0\n",
    "    \n",
    "    Returns\n",
    "    ----------------------------------------\n",
    "    [[int]]  \n",
    "    \n",
    "    \n",
    "    Example\n",
    "    ------------------------\n",
    "    >>> zero_matrix(3,4)\n",
    "    [[0, 0, 0], [0, 0, 0], [0, 0, 0], [0, 0, 0]]\n",
    "    \"\"\"    \n",
    "    result=[]\n",
    "    for i in range(n):\n",
    "        result.append([0]*m)\n",
    "    return result"
   ]
  },
  {
   "cell_type": "code",
   "execution_count": 41,
   "metadata": {},
   "outputs": [],
   "source": [
    "m1 = zero_matrix(3,4)"
   ]
  },
  {
   "cell_type": "code",
   "execution_count": 42,
   "metadata": {},
   "outputs": [
    {
     "data": {
      "text/plain": [
       "[[0, 0, 0, 0], [0, 0, 0, 0], [0, 0, 0, 0]]"
      ]
     },
     "execution_count": 42,
     "metadata": {},
     "output_type": "execute_result"
    }
   ],
   "source": [
    "m1"
   ]
  },
  {
   "cell_type": "code",
   "execution_count": 43,
   "metadata": {},
   "outputs": [],
   "source": [
    "m1[0][0] = 1"
   ]
  },
  {
   "cell_type": "code",
   "execution_count": 44,
   "metadata": {},
   "outputs": [
    {
     "data": {
      "text/plain": [
       "[[1, 0, 0, 0], [0, 0, 0, 0], [0, 0, 0, 0]]"
      ]
     },
     "execution_count": 44,
     "metadata": {},
     "output_type": "execute_result"
    }
   ],
   "source": [
    "m1"
   ]
  },
  {
   "cell_type": "markdown",
   "metadata": {},
   "source": [
    "Las cadenas de caracteres tienen un comportamiento similar a las listas, pero sin embargo son **inmutables**"
   ]
  },
  {
   "cell_type": "code",
   "execution_count": 45,
   "metadata": {},
   "outputs": [],
   "source": [
    "cad = 'homomorfismo'"
   ]
  },
  {
   "cell_type": "code",
   "execution_count": 46,
   "metadata": {},
   "outputs": [
    {
     "data": {
      "text/plain": [
       "'h*o*m*o*m*o*r*f*i*s*m*o*'"
      ]
     },
     "execution_count": 46,
     "metadata": {},
     "output_type": "execute_result"
    }
   ],
   "source": [
    "cad2 = ''\n",
    "for i in range(len(cad)):\n",
    "    cad2 = cad2 + cad[i] + '*'\n",
    "cad2"
   ]
  },
  {
   "cell_type": "code",
   "execution_count": 47,
   "metadata": {},
   "outputs": [
    {
     "ename": "TypeError",
     "evalue": "'str' object does not support item assignment",
     "output_type": "error",
     "traceback": [
      "\u001b[0;31m---------------------------------------------------------------------------\u001b[0m",
      "\u001b[0;31mTypeError\u001b[0m                                 Traceback (most recent call last)",
      "\u001b[0;32m<ipython-input-47-c70012963d7e>\u001b[0m in \u001b[0;36m<module>\u001b[0;34m()\u001b[0m\n\u001b[0;32m----> 1\u001b[0;31m \u001b[0mcad\u001b[0m\u001b[0;34m[\u001b[0m\u001b[0;36m0\u001b[0m\u001b[0;34m]\u001b[0m \u001b[0;34m=\u001b[0m \u001b[0;34m'x'\u001b[0m \u001b[0;31m#no se puede modificar\u001b[0m\u001b[0;34m\u001b[0m\u001b[0m\n\u001b[0m",
      "\u001b[0;31mTypeError\u001b[0m: 'str' object does not support item assignment"
     ]
    }
   ],
   "source": [
    "cad[0] = 'x' #no se puede modificar"
   ]
  },
  {
   "cell_type": "code",
   "execution_count": null,
   "metadata": {},
   "outputs": [],
   "source": []
  }
 ],
 "metadata": {
  "kernelspec": {
   "display_name": "Python 3",
   "language": "python",
   "name": "python3"
  },
  "language_info": {
   "codemirror_mode": {
    "name": "ipython",
    "version": 3
   },
   "file_extension": ".py",
   "mimetype": "text/x-python",
   "name": "python",
   "nbconvert_exporter": "python",
   "pygments_lexer": "ipython3",
   "version": "3.5.3"
  }
 },
 "nbformat": 4,
 "nbformat_minor": 1
}
