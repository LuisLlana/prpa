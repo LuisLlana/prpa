{
 "cells": [
  {
   "cell_type": "markdown",
   "metadata": {},
   "source": [
    "# Estructuras iterativas: bucles\n",
    "A través de los bucles, podemos hacer que una instrucción o secuencia de instrucciones se repitan un número (determinado o no) de veces. La instrucción básica es `while`."
   ]
  },
  {
   "cell_type": "markdown",
   "metadata": {},
   "source": [
    "## Bucle while"
   ]
  },
  {
   "cell_type": "markdown",
   "metadata": {},
   "source": [
    "Sintaxis:\n",
    "\n",
    "`while <<condición>>:\n",
    "     <<instrucciones>>`\n",
    "     \n",
    "Las instrucciones ser repiten mientras se verifique la condición."
   ]
  },
  {
   "cell_type": "markdown",
   "metadata": {},
   "source": [
    "#### Ejemplo muy sencillo\n",
    "\n",
    "Sumar los números enteros en un determinado rango"
   ]
  },
  {
   "cell_type": "code",
   "execution_count": 74,
   "metadata": {},
   "outputs": [
    {
     "data": {
      "text/plain": [
       "14"
      ]
     },
     "execution_count": 74,
     "metadata": {},
     "output_type": "execute_result"
    }
   ],
   "source": [
    "lim_sup = 5\n",
    "lim_inf = 2\n",
    "result = 0\n",
    "while lim_inf <= lim_sup:\n",
    "    result = result + lim_inf\n",
    "    lim_inf = lim_inf + 1\n",
    "result"
   ]
  },
  {
   "cell_type": "markdown",
   "metadata": {},
   "source": [
    "En forma de función"
   ]
  },
  {
   "cell_type": "code",
   "execution_count": 75,
   "metadata": {},
   "outputs": [],
   "source": [
    "def sum_range(a,b):\n",
    "    \"\"\"\n",
    "    This function calculates the sum of all integers from a to b, \n",
    "    including both. If b<a this function returns 0 (there are no\n",
    "    integers holding the conditions.\n",
    "    \n",
    "    Parameters\n",
    "    ----------\n",
    "    a : int\n",
    "        Start of the range\n",
    "    b : int\n",
    "        Finish of the range\n",
    "        \n",
    "    Returns\n",
    "    -------\n",
    "    int\n",
    "        Sum of the range [a..b]\n",
    "        \n",
    "    Example\n",
    "    -------\n",
    "    >>> sum_range(1,4)\n",
    "    10\n",
    "    \"\"\"\n",
    "    cont = a\n",
    "    result = 0\n",
    "    while cont <= b:\n",
    "        result = result + cont\n",
    "        cont = cont + 1\n",
    "    return result"
   ]
  },
  {
   "cell_type": "code",
   "execution_count": 76,
   "metadata": {},
   "outputs": [
    {
     "data": {
      "text/plain": [
       "(33, 22, 0, 10)"
      ]
     },
     "execution_count": 76,
     "metadata": {},
     "output_type": "execute_result"
    }
   ],
   "source": [
    "sum_range(3, 8), sum_range(-3, 7), sum_range(6, -3), sum_range(1, 4)"
   ]
  },
  {
   "cell_type": "markdown",
   "metadata": {},
   "source": [
    "#### Algo un poco más interesante\n",
    "\n",
    "Calcular las potencias de dos de un número.  \n",
    "\n",
    "Ejemplos: `12 = 2^2 * 3, 16 = 2^4 * 1, 7 = 2^0 * 7`."
   ]
  },
  {
   "cell_type": "markdown",
   "metadata": {},
   "source": [
    "Una primera aproximación."
   ]
  },
  {
   "cell_type": "code",
   "execution_count": 77,
   "metadata": {},
   "outputs": [],
   "source": [
    "def great_pow_2(n):\n",
    "    \"\"\"\n",
    "    This function extract the greatest power of two of \n",
    "    a given number n >= 0. It returns a tuple, the power \n",
    "    of two and the remaining, that is pow2(n) = t, k \n",
    "    where t is a power of two and t*k = n.\n",
    "    \n",
    "    Parameters\n",
    "    ----------\n",
    "    n: int\n",
    "        Integer to extract the greatest power of two\n",
    "    \n",
    "    Returns\n",
    "    -------\n",
    "    (int, int)\n",
    "        Pair (t, k) where t is the power of two and t*k = n\n",
    "        \n",
    "    Example\n",
    "    -------\n",
    "    >>> pow2(12)\n",
    "    (4, 3)        \n",
    "    \"\"\"\n",
    "    pow2 = 1\n",
    "    while (n % 2) == 0:\n",
    "        pow2 = pow2 * 2\n",
    "        n = n // 2\n",
    "    return pow2, n     "
   ]
  },
  {
   "cell_type": "code",
   "execution_count": 78,
   "metadata": {},
   "outputs": [
    {
     "data": {
      "text/plain": [
       "((2, 1), (8, 1), (1, 7))"
      ]
     },
     "execution_count": 78,
     "metadata": {},
     "output_type": "execute_result"
    }
   ],
   "source": [
    "great_pow_2(2), great_pow_2(8), great_pow_2(7)"
   ]
  },
  {
   "cell_type": "code",
   "execution_count": 79,
   "metadata": {},
   "outputs": [
    {
     "data": {
      "text/plain": [
       "((4, 3), (1267650600228229401496703205376, 1))"
      ]
     },
     "execution_count": 79,
     "metadata": {},
     "output_type": "execute_result"
    }
   ],
   "source": [
    "great_pow_2(12), great_pow_2(2**100)"
   ]
  },
  {
   "cell_type": "markdown",
   "metadata": {},
   "source": [
    "Ya estamos muy cerca, ahora contamos el exponente de la potencia en lugar de calcularlo."
   ]
  },
  {
   "cell_type": "code",
   "execution_count": 80,
   "metadata": {},
   "outputs": [],
   "source": [
    "def great_pow2_exp(n):\n",
    "    \"\"\"\n",
    "    This function extract the greatest power of two of a \n",
    "    given number n >= 0. It returns a tuple, the exponent \n",
    "    of the power of two and the remaining, that is\n",
    "    pow2(n) = s, k then (2**s)*k = n.\n",
    "    \n",
    "    Parameters\n",
    "    ----------\n",
    "    n: int\n",
    "        Integer to extract the greatest power of two\n",
    "        \n",
    "    (int, int)\n",
    "        Pair (s, k) where s is the exponent and (2**s)*k = n\n",
    "        \n",
    "    Example\n",
    "    -------\n",
    "    >>> power2(12)\n",
    "    (2, 3)\n",
    "    \"\"\"\n",
    "    exp2 = 0\n",
    "    while (n % 2) == 0:\n",
    "        exp2 = exp2 + 1\n",
    "        n = n // 2\n",
    "    return exp2, n"
   ]
  },
  {
   "cell_type": "code",
   "execution_count": 81,
   "metadata": {},
   "outputs": [
    {
     "data": {
      "text/plain": [
       "((1, 1), (3, 1))"
      ]
     },
     "execution_count": 81,
     "metadata": {},
     "output_type": "execute_result"
    }
   ],
   "source": [
    "great_pow2_exp(2), great_pow2_exp(8)"
   ]
  },
  {
   "cell_type": "code",
   "execution_count": 82,
   "metadata": {},
   "outputs": [
    {
     "data": {
      "text/plain": [
       "((0, 7), (2, 3))"
      ]
     },
     "execution_count": 82,
     "metadata": {},
     "output_type": "execute_result"
    }
   ],
   "source": [
    "great_pow2_exp(7), great_pow2_exp(12)"
   ]
  },
  {
   "cell_type": "markdown",
   "metadata": {},
   "source": [
    "Si queremos *ver* los resultados más bonitos..."
   ]
  },
  {
   "cell_type": "code",
   "execution_count": 83,
   "metadata": {},
   "outputs": [
    {
     "name": "stdout",
     "output_type": "stream",
     "text": [
      "3214134134 = 2^1 * 1607067067\n"
     ]
    }
   ],
   "source": [
    "n = 3214134134\n",
    "a, b = great_pow2_exp(n)\n",
    "print(\"{0} = 2^{1} * {2}\".format(n, a, b))"
   ]
  },
  {
   "cell_type": "markdown",
   "metadata": {},
   "source": [
    "**Nota:** No es buena idea introducir estas expresiones en el `return` de la función.\n",
    "La función es más útil si devolvemos el par de números en lugar de un string."
   ]
  },
  {
   "cell_type": "markdown",
   "metadata": {},
   "source": [
    "#### Suma de las cifras de un número"
   ]
  },
  {
   "cell_type": "markdown",
   "metadata": {},
   "source": [
    "Con un poco de paciencia podemos sumar las cifras de un entero positivo utilizando únicamente expresiones y asignaciones."
   ]
  },
  {
   "cell_type": "code",
   "execution_count": 84,
   "metadata": {},
   "outputs": [],
   "source": [
    "n = 1536"
   ]
  },
  {
   "cell_type": "code",
   "execution_count": 85,
   "metadata": {},
   "outputs": [
    {
     "data": {
      "text/plain": [
       "6"
      ]
     },
     "execution_count": 85,
     "metadata": {},
     "output_type": "execute_result"
    }
   ],
   "source": [
    "cifra1 = n % 10\n",
    "cifra1"
   ]
  },
  {
   "cell_type": "code",
   "execution_count": 86,
   "metadata": {},
   "outputs": [
    {
     "data": {
      "text/plain": [
       "(6, 153)"
      ]
     },
     "execution_count": 86,
     "metadata": {},
     "output_type": "execute_result"
    }
   ],
   "source": [
    "suma = cifra1\n",
    "n = n // 10\n",
    "suma, n"
   ]
  },
  {
   "cell_type": "code",
   "execution_count": 87,
   "metadata": {},
   "outputs": [
    {
     "data": {
      "text/plain": [
       "(9, 15)"
      ]
     },
     "execution_count": 87,
     "metadata": {},
     "output_type": "execute_result"
    }
   ],
   "source": [
    "cifra2 = n % 10\n",
    "suma = suma + cifra2\n",
    "n = n // 10\n",
    "suma, n"
   ]
  },
  {
   "cell_type": "code",
   "execution_count": 88,
   "metadata": {},
   "outputs": [
    {
     "data": {
      "text/plain": [
       "(14, 1.5)"
      ]
     },
     "execution_count": 88,
     "metadata": {},
     "output_type": "execute_result"
    }
   ],
   "source": [
    "cifra3 = n % 10\n",
    "suma = suma + cifra3\n",
    "n = n / 10\n",
    "suma, n"
   ]
  },
  {
   "cell_type": "code",
   "execution_count": 89,
   "metadata": {},
   "outputs": [
    {
     "data": {
      "text/plain": [
       "(15.5, 0.15)"
      ]
     },
     "execution_count": 89,
     "metadata": {},
     "output_type": "execute_result"
    }
   ],
   "source": [
    "cifra4 = n % 10\n",
    "suma = suma + cifra4\n",
    "n = n / 10\n",
    "suma, n"
   ]
  },
  {
   "cell_type": "markdown",
   "metadata": {},
   "source": [
    "Con `while` la cosa es más sencilla, general y clara"
   ]
  },
  {
   "cell_type": "code",
   "execution_count": 90,
   "metadata": {},
   "outputs": [],
   "source": [
    "def digit_sum(n):\n",
    "    \"\"\"\n",
    "    This function computes the sum of the digits of \n",
    "    a positive integer, n >= 0.\n",
    "    \n",
    "    Parameters\n",
    "    ----------\n",
    "    n : int\n",
    "        Positive integer to sum the digits \n",
    "    \n",
    "    Returns\n",
    "    -------\n",
    "    int\n",
    "        Sum of the digits of n\n",
    "    \n",
    "    Example\n",
    "    -------\n",
    "    >>> digit_sum(123)\n",
    "    6\n",
    "    \"\"\"\n",
    "    result = 0\n",
    "    while n != 0:\n",
    "        digit = n % 10\n",
    "        result = result + digit\n",
    "        n = n // 10\n",
    "    return result"
   ]
  },
  {
   "cell_type": "code",
   "execution_count": 91,
   "metadata": {},
   "outputs": [
    {
     "data": {
      "text/plain": [
       "6"
      ]
     },
     "execution_count": 91,
     "metadata": {},
     "output_type": "execute_result"
    }
   ],
   "source": [
    "digit_sum(123)"
   ]
  },
  {
   "cell_type": "code",
   "execution_count": 92,
   "metadata": {},
   "outputs": [
    {
     "data": {
      "text/plain": [
       "157"
      ]
     },
     "execution_count": 92,
     "metadata": {},
     "output_type": "execute_result"
    }
   ],
   "source": [
    "n = 2334353425234523452345324524352452435227827\n",
    "digit_sum(n)"
   ]
  },
  {
   "cell_type": "markdown",
   "metadata": {},
   "source": [
    "#### Criterios de divisibilidad\n",
    "¿Es el número `233432436598764523578` divisible por `3` y por `9`?\n"
   ]
  },
  {
   "cell_type": "code",
   "execution_count": 93,
   "metadata": {},
   "outputs": [],
   "source": [
    "def divisible_by_3(n):\n",
    "    \"\"\"\n",
    "    This function decides if a positive integer is divisible by 3. n >= 0. \n",
    "    \n",
    "    Parameters\n",
    "    ----------\n",
    "    n : int\n",
    "        Integer positive number\n",
    "    \n",
    "    Returns\n",
    "    -------\n",
    "    bool\n",
    "        Whether n is divisible by 3 or not\n",
    "    \n",
    "    Example\n",
    "    -------\n",
    "    >>> divisible_by_3(14)\n",
    "    False\n",
    "    \"\"\"\n",
    "    copy = n\n",
    "    while copy > 9:\n",
    "        copy = digit_sum(copy)\n",
    "    if (copy == 0) or (copy == 3) or (copy == 6) or (copy == 9):\n",
    "        return True\n",
    "    else:\n",
    "        return False"
   ]
  },
  {
   "cell_type": "code",
   "execution_count": 94,
   "metadata": {},
   "outputs": [
    {
     "ename": "SyntaxError",
     "evalue": "invalid syntax (<ipython-input-94-ecbb95e6e2c2>, line 1)",
     "output_type": "error",
     "traceback": [
      "\u001b[0;36m  File \u001b[0;32m\"<ipython-input-94-ecbb95e6e2c2>\"\u001b[0;36m, line \u001b[0;32m1\u001b[0m\n\u001b[0;31m    print divisible_by_3(334132413413241231)\u001b[0m\n\u001b[0m                       ^\u001b[0m\n\u001b[0;31mSyntaxError\u001b[0m\u001b[0;31m:\u001b[0m invalid syntax\n"
     ]
    }
   ],
   "source": [
    "print divisible_by_3(334132413413241231)\n",
    "print divisible_by_3(14)"
   ]
  },
  {
   "cell_type": "code",
   "execution_count": 105,
   "metadata": {},
   "outputs": [],
   "source": [
    "def divisible_by_9(n):\n",
    "    \"\"\"\n",
    "    This function decides if a positive integer is divisible by 9. n >= 0. \n",
    "    \n",
    "    Parameters\n",
    "    ----------\n",
    "    n : int\n",
    "        Integer positive number\n",
    "    \n",
    "    Returns\n",
    "    -------\n",
    "    bool\n",
    "        Whether n is divisible by 9 or not\n",
    "        \n",
    "    Example\n",
    "    -------\n",
    "    >>> divisible_by_9(19)\n",
    "    False\n",
    "    \"\"\"\n",
    "    copy = n\n",
    "    while copy > 9:\n",
    "        copy = digit_sum(copy)\n",
    "    return (copy == 0) or (copy == 9)"
   ]
  },
  {
   "cell_type": "code",
   "execution_count": 106,
   "metadata": {},
   "outputs": [
    {
     "data": {
      "text/plain": [
       "(True, True, False)"
      ]
     },
     "execution_count": 106,
     "metadata": {},
     "output_type": "execute_result"
    }
   ],
   "source": [
    "divisible_by_9(18), divisible_by_9(3413413413414), divisible_by_9(19)"
   ]
  },
  {
   "cell_type": "code",
   "execution_count": 107,
   "metadata": {},
   "outputs": [
    {
     "data": {
      "text/plain": [
       "True"
      ]
     },
     "execution_count": 107,
     "metadata": {},
     "output_type": "execute_result"
    }
   ],
   "source": [
    "divisible_by_3(233432436598764523578) and \\\n",
    "divisible_by_9(233432436598764523578)"
   ]
  },
  {
   "cell_type": "markdown",
   "metadata": {},
   "source": [
    "Divisivilidad por 11: las suma de las cifras en posición par es igual a la suma de las cifras en posición impar."
   ]
  },
  {
   "cell_type": "code",
   "execution_count": 100,
   "metadata": {},
   "outputs": [],
   "source": [
    "def sum_par_impar(n):\n",
    "    pos_par = True\n",
    "    pares = 0\n",
    "    impares = 0\n",
    "    \n",
    "    while  n!=0:\n",
    "        digit = n%10\n",
    "        if pos_par :\n",
    "            pares = pares + digit\n",
    "        else:\n",
    "            impares = impares + digit\n",
    "        n= n // 10\n",
    "        pos_par = not pos_par\n",
    "    return (pares,impares)"
   ]
  },
  {
   "cell_type": "code",
   "execution_count": 108,
   "metadata": {},
   "outputs": [
    {
     "data": {
      "text/plain": [
       "(5, 4)"
      ]
     },
     "execution_count": 108,
     "metadata": {},
     "output_type": "execute_result"
    }
   ],
   "source": [
    "sum_par_impar(12123)"
   ]
  },
  {
   "cell_type": "code",
   "execution_count": 110,
   "metadata": {},
   "outputs": [],
   "source": [
    "def divisible_11(n):\n",
    "    while n > 11:\n",
    "        pares, impares = sum_par_impar(n)\n",
    "        if pares > impares:\n",
    "            n = pares - impares\n",
    "        else:\n",
    "            n = impares - pares\n",
    "    return n==0 or n==11"
   ]
  },
  {
   "cell_type": "code",
   "execution_count": 111,
   "metadata": {
    "scrolled": true
   },
   "outputs": [
    {
     "data": {
      "text/plain": [
       "True"
      ]
     },
     "execution_count": 111,
     "metadata": {},
     "output_type": "execute_result"
    }
   ],
   "source": [
    "divisible_11(11)"
   ]
  },
  {
   "cell_type": "code",
   "execution_count": 115,
   "metadata": {},
   "outputs": [
    {
     "data": {
      "text/plain": [
       "True"
      ]
     },
     "execution_count": 115,
     "metadata": {},
     "output_type": "execute_result"
    }
   ],
   "source": [
    "divisible_11(135777972)\n"
   ]
  },
  {
   "cell_type": "code",
   "execution_count": 116,
   "metadata": {},
   "outputs": [
    {
     "data": {
      "text/plain": [
       "False"
      ]
     },
     "execution_count": 116,
     "metadata": {},
     "output_type": "execute_result"
    }
   ],
   "source": [
    "divisible_11(135776972)\n"
   ]
  }
 ],
 "metadata": {
  "kernelspec": {
   "display_name": "Python 3",
   "language": "python",
   "name": "python3"
  },
  "language_info": {
   "codemirror_mode": {
    "name": "ipython",
    "version": 3
   },
   "file_extension": ".py",
   "mimetype": "text/x-python",
   "name": "python",
   "nbconvert_exporter": "python",
   "pygments_lexer": "ipython3",
   "version": "3.5.3"
  }
 },
 "nbformat": 4,
 "nbformat_minor": 1
}
