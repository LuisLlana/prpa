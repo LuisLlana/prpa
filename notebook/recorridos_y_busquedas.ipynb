{
 "cells": [
  {
   "cell_type": "markdown",
   "metadata": {},
   "source": [
    "# Recorridos y búsquedas en listas y strings"
   ]
  },
  {
   "cell_type": "markdown",
   "metadata": {},
   "source": [
    "## Recorridos"
   ]
  },
  {
   "cell_type": "markdown",
   "metadata": {},
   "source": [
    "Ya hemos visto muchos ejemplos de recorridos. Un recorrido es cuando un bucle se ejecuta a lo largo de una secuencia sin pausa y sin necesidad de terminar antes del final."
   ]
  },
  {
   "cell_type": "code",
   "execution_count": 75,
   "metadata": {},
   "outputs": [],
   "source": [
    "def mean(numberlst):\n",
    "    \"\"\"This function returns the mean of a list of numbers\n",
    "    \n",
    "    Parameters\n",
    "    ----------\n",
    "    numberlst : [float]\n",
    "        List of float numbers\n",
    "        \n",
    "    Returns\n",
    "    -------\n",
    "    float\n",
    "        Mean of the list\n",
    "        \n",
    "    Example\n",
    "    -------\n",
    "    >>> mean([1,2,3,4])\n",
    "    2.5\n",
    "    \"\"\"\n",
    "    s = 0.0\n",
    "    i = 0\n",
    "    while i < len(numberlst):\n",
    "        s = s + numberlst[i]\n",
    "        i = i + 1\n",
    "    return s / len(numberlst)"
   ]
  },
  {
   "cell_type": "code",
   "execution_count": 76,
   "metadata": {},
   "outputs": [
    {
     "data": {
      "text/plain": [
       "2.5"
      ]
     },
     "execution_count": 76,
     "metadata": {},
     "output_type": "execute_result"
    }
   ],
   "source": [
    "mean([1,2,3,4])"
   ]
  },
  {
   "cell_type": "code",
   "execution_count": 77,
   "metadata": {},
   "outputs": [],
   "source": [
    "def digit_sum(n):\n",
    "    \"\"\"\n",
    "    This function computes the sum of the digits of a positive integer, n >= 0.\n",
    "    \n",
    "    Parameters\n",
    "    ----------\n",
    "    n : int\n",
    "        Positive integer number\n",
    "        \n",
    "    Returns\n",
    "    -------\n",
    "    int\n",
    "        Sum of the digits of n\n",
    "        \n",
    "    Example\n",
    "    -------\n",
    "    >>> digit_sum(1234)\n",
    "    10\n",
    "    \"\"\"\n",
    "    result = 0\n",
    "    while n != 0:\n",
    "        digit = n % 10\n",
    "        result = result + digit\n",
    "        n = n // 10\n",
    "    return result"
   ]
  },
  {
   "cell_type": "code",
   "execution_count": 78,
   "metadata": {},
   "outputs": [
    {
     "data": {
      "text/plain": [
       "10"
      ]
     },
     "execution_count": 78,
     "metadata": {},
     "output_type": "execute_result"
    }
   ],
   "source": [
    "digit_sum(1234)"
   ]
  },
  {
   "cell_type": "markdown",
   "metadata": {},
   "source": [
    "### Filtros"
   ]
  },
  {
   "cell_type": "markdown",
   "metadata": {},
   "source": [
    "Un tipo de recorrido muy utilizado son los filtros. En estos recorridos aplicamos una función para saber qué elementos de la secuencia original verifican una determinada propiedad."
   ]
  },
  {
   "cell_type": "code",
   "execution_count": 79,
   "metadata": {},
   "outputs": [],
   "source": [
    "def short_names(name_list, n):\n",
    "    \"\"\"\n",
    "    From a list of names, the function chooses the names with length below of equal n.\n",
    "    All the names that satisfy the condition are returned in a list.\n",
    "    \n",
    "    Parameters\n",
    "    ----------\n",
    "    name_list : [string]\n",
    "        List of names\n",
    "    n : int\n",
    "        Maximum length for names\n",
    "        \n",
    "    Returns\n",
    "    -------\n",
    "    [string]\n",
    "        List of names in name_list whose length is less than or equal to n\n",
    "        \n",
    "    Example\n",
    "    -------\n",
    "    >>> short_names(['Ana','Pedro','Eva'], 3)\n",
    "    ['Ana', 'Eva']\n",
    "    \"\"\"\n",
    "    short = []\n",
    "    for name in name_list:\n",
    "        if len(name) <= n:\n",
    "            short.append(name)\n",
    "    return short"
   ]
  },
  {
   "cell_type": "code",
   "execution_count": 80,
   "metadata": {},
   "outputs": [
    {
     "data": {
      "text/plain": [
       "['Ana', 'Eva']"
      ]
     },
     "execution_count": 80,
     "metadata": {},
     "output_type": "execute_result"
    }
   ],
   "source": [
    "short_names(['Ana','Pedro','Eva'], 3)"
   ]
  },
  {
   "cell_type": "code",
   "execution_count": 81,
   "metadata": {},
   "outputs": [],
   "source": [
    "def letter_count(letter, word):\n",
    "    \"\"\"\n",
    "    Counts the occurrences of letter in word.\n",
    "    \n",
    "    Parameters\n",
    "    ----------\n",
    "    letter: string\n",
    "        Letter to search\n",
    "    word: string\n",
    "        Word\n",
    "        \n",
    "    Returns\n",
    "    -------\n",
    "    int\n",
    "        Occurrences of letter in word\n",
    "        \n",
    "    Example\n",
    "    -------\n",
    "    >>> letter_count('o', 'abogado')\n",
    "    2\n",
    "    \"\"\"\n",
    "    cont = 0\n",
    "    for char in word:\n",
    "        if char == letter:\n",
    "            cont = cont + 1\n",
    "    return cont     "
   ]
  },
  {
   "cell_type": "code",
   "execution_count": 82,
   "metadata": {},
   "outputs": [
    {
     "data": {
      "text/plain": [
       "2"
      ]
     },
     "execution_count": 82,
     "metadata": {},
     "output_type": "execute_result"
    }
   ],
   "source": [
    "letter_count('o', 'abogado')"
   ]
  },
  {
   "cell_type": "code",
   "execution_count": 83,
   "metadata": {},
   "outputs": [],
   "source": [
    "def substr(word, ini, num):\n",
    "    \"\"\"\n",
    "    This function returns the substring starting in end with num letters.\n",
    "    If ini>=len(word) the function returns the empty string. If ini<len(word) and ini+num>len(word) the\n",
    "    function returns the string starting in ini with len(word)-ini letters\n",
    "    \n",
    "    Parameters\n",
    "    ----------\n",
    "    word : str\n",
    "        String\n",
    "    ini : int\n",
    "        Starting position of the substring (ini >= 0)\n",
    "    num : int\n",
    "        Length of the substring (num >= 0)\n",
    "        \n",
    "    Returns\n",
    "    -------\n",
    "    str\n",
    "        Substring of word starting at position ini with length num\n",
    "        \n",
    "    Example\n",
    "    -------\n",
    "    >>> substr(\"Bienvenido\", 4, 6)\n",
    "    \"venido\"\n",
    "    \"\"\"\n",
    "    i = 0\n",
    "    sub = \"\"\n",
    "    while (i + ini) < len(word) and (i < num):\n",
    "        sub += word[ini + i]\n",
    "        i += 1\n",
    "    return sub"
   ]
  },
  {
   "cell_type": "code",
   "execution_count": 84,
   "metadata": {},
   "outputs": [
    {
     "data": {
      "text/plain": [
       "('la', '', 'a', 'venido')"
      ]
     },
     "execution_count": 84,
     "metadata": {},
     "output_type": "execute_result"
    }
   ],
   "source": [
    "substr(\"Hola\",2,2), substr(\"Hola\",4,2), substr(\"Hola\",3,4), substr(\"Bienvenido\", 4, 6)"
   ]
  },
  {
   "cell_type": "markdown",
   "metadata": {},
   "source": [
    "## Búsquedas"
   ]
  },
  {
   "cell_type": "markdown",
   "metadata": {},
   "source": [
    "Las búsquedas tienen que hacer un recorrido, pero a diferencia de éstos, en cualquier momento este recorrido puede terminar al haber encontrado lo que se deseaba. "
   ]
  },
  {
   "cell_type": "markdown",
   "metadata": {},
   "source": [
    "### Buscar si un elemento está o no en una lista"
   ]
  },
  {
   "cell_type": "code",
   "execution_count": 85,
   "metadata": {},
   "outputs": [],
   "source": [
    "def search1(name, staff):\n",
    "    \"\"\"\n",
    "    fuction that indicates if the list staff contains the person name\n",
    "    \n",
    "    Parameters\n",
    "    ----------\n",
    "    name : string\n",
    "        Person name\n",
    "    staff : [str]\n",
    "        List of names\n",
    "        \n",
    "    Returns\n",
    "    -------\n",
    "    bool\n",
    "        Whether name appears in staff\n",
    "        \n",
    "    Example\n",
    "    -------\n",
    "    >>> search1(\"María\",[\"Juan\",\"Luisa\",\"María\",\"Eva\"])\n",
    "    True\n",
    "    \"\"\"\n",
    "    result = False\n",
    "    for p in staff:\n",
    "        if p == name:\n",
    "            result = True\n",
    "    return result"
   ]
  },
  {
   "cell_type": "code",
   "execution_count": 86,
   "metadata": {},
   "outputs": [
    {
     "data": {
      "text/plain": [
       "(True, False)"
      ]
     },
     "execution_count": 86,
     "metadata": {},
     "output_type": "execute_result"
    }
   ],
   "source": [
    "search1(\"María\",[\"Juan\",\"Luisa\",\"María\",\"Eva\"]),search1(\"Petra\",[\"Juan\",\"Luisa\",\"María\",\"Eva\"])"
   ]
  },
  {
   "cell_type": "markdown",
   "metadata": {},
   "source": [
    "La función anterior no es muy eficiente, una vez encontrada la persona sigue recorriendo la lista hasta el final. Podemos hacer mejor las cosas."
   ]
  },
  {
   "cell_type": "code",
   "execution_count": 87,
   "metadata": {},
   "outputs": [],
   "source": [
    "def search2(name, staff):\n",
    "    \"\"\"\n",
    "    fuction that indicates if the list staff contains the person name \n",
    "    \n",
    "    Parameters\n",
    "    ----------\n",
    "    name : string\n",
    "        Person name\n",
    "    staff : [str]\n",
    "        List of names\n",
    "        \n",
    "    Returns\n",
    "    -------\n",
    "    bool\n",
    "        Whether name appears in staff\n",
    "        \n",
    "    Example\n",
    "    -------\n",
    "    >>> search2(\"María\",[\"Juan\",\"Luisa\",\"María\",\"Eva\"])\n",
    "    True\n",
    "    \"\"\"\n",
    "    i = 0\n",
    "    while i < len(staff) and name != staff[i]:\n",
    "        i = i + 1\n",
    "    return i < len(staff)"
   ]
  },
  {
   "cell_type": "code",
   "execution_count": 88,
   "metadata": {},
   "outputs": [
    {
     "data": {
      "text/plain": [
       "(False, True)"
      ]
     },
     "execution_count": 88,
     "metadata": {},
     "output_type": "execute_result"
    }
   ],
   "source": [
    "search2('pepa',['ana','luis','pep']), search2(\"María\",[\"Juan\",\"Luisa\",\"María\",\"Eva\"])"
   ]
  },
  {
   "cell_type": "markdown",
   "metadata": {},
   "source": [
    "### Ahora con números"
   ]
  },
  {
   "cell_type": "code",
   "execution_count": 89,
   "metadata": {},
   "outputs": [],
   "source": [
    "def random_list(n):\n",
    "    \"\"\"\n",
    "    Returns a list of n random integer between 0 and 100.\n",
    "    \n",
    "    Parameters\n",
    "    ----------\n",
    "    n : int\n",
    "        Number of randon integers\n",
    "    \n",
    "    Returns\n",
    "    -------\n",
    "    [int]\n",
    "        List of random integers of length n\n",
    "        \n",
    "    Example\n",
    "    -------\n",
    "    >>> random_list(3)\n",
    "    [14, 47, 77]\n",
    "    \"\"\"\n",
    "    import random\n",
    "    result = []\n",
    "    for x in range(n):\n",
    "        result.append(random.randint(0, 100))\n",
    "    return result"
   ]
  },
  {
   "cell_type": "markdown",
   "metadata": {},
   "source": [
    "Generamos una lista aleatoria de enteros."
   ]
  },
  {
   "cell_type": "code",
   "execution_count": 90,
   "metadata": {},
   "outputs": [
    {
     "name": "stdout",
     "output_type": "stream",
     "text": [
      "[40, 28, 84, 2, 35, 55, 65, 95, 7, 43, 55, 84, 68, 93, 23, 51, 82, 20, 72, 3, 17, 52, 41, 21, 78, 61, 47, 85, 84, 20, 78, 24, 81, 1, 22, 37, 47, 65, 59, 89, 7, 63, 72, 19, 55, 16, 16, 74, 62, 30, 97, 53, 86, 67, 34, 42, 3, 18, 90, 5, 71, 74, 84, 0, 27, 75, 7, 68, 92, 5, 43, 67, 49, 75, 89, 82, 17, 81, 60, 73, 77, 12, 15, 29, 29, 88, 22, 64, 43, 48, 17, 36, 70, 13, 100, 82, 27, 89, 67, 44]\n"
     ]
    }
   ],
   "source": [
    "l = random_list(100)\n",
    "print(l)"
   ]
  },
  {
   "cell_type": "markdown",
   "metadata": {},
   "source": [
    "Para buscar si un número está en l, ¡¡¡el código es el mismo que antes!!!. Podemos hacer las cosas \"genéricas\" "
   ]
  },
  {
   "cell_type": "code",
   "execution_count": 91,
   "metadata": {},
   "outputs": [],
   "source": [
    "def search(e,l):\n",
    "    \"\"\"\n",
    "    fuction that indicates if the list l contains the element e\n",
    "    \n",
    "    Parameters\n",
    "    ----------\n",
    "    e : x\n",
    "        Element\n",
    "    l : [x]\n",
    "        List of values of type x\n",
    "        \n",
    "    Returns\n",
    "    -------\n",
    "    bool\n",
    "        Whether l contains the element e or not\n",
    "        \n",
    "    Example\n",
    "    -------\n",
    "    >>> search(1, [3,2,1])\n",
    "    True\n",
    "    >>> search(\"pepe\", [\"ana\",\"juan\"])\n",
    "    False\n",
    "    \"\"\"\n",
    "    i = 0\n",
    "    while (i < len(l)) and (e != l[i]):\n",
    "        i = i + 1\n",
    "    return (i < len(l))"
   ]
  },
  {
   "cell_type": "code",
   "execution_count": 92,
   "metadata": {},
   "outputs": [
    {
     "data": {
      "text/plain": [
       "(True, True)"
      ]
     },
     "execution_count": 92,
     "metadata": {},
     "output_type": "execute_result"
    }
   ],
   "source": [
    "search(2,l),search(48,l)"
   ]
  },
  {
   "cell_type": "markdown",
   "metadata": {},
   "source": [
    "Lo que hemos hecho es tan útil que los creadores de Python lo han incorporado al lenguaje:\n",
    "\n",
    "`<<elemento>> in <<secuencia>>`"
   ]
  },
  {
   "cell_type": "code",
   "execution_count": 93,
   "metadata": {},
   "outputs": [
    {
     "data": {
      "text/plain": [
       "True"
      ]
     },
     "execution_count": 93,
     "metadata": {},
     "output_type": "execute_result"
    }
   ],
   "source": [
    "2 in l"
   ]
  },
  {
   "cell_type": "code",
   "execution_count": 94,
   "metadata": {},
   "outputs": [
    {
     "data": {
      "text/plain": [
       "False"
      ]
     },
     "execution_count": 94,
     "metadata": {},
     "output_type": "execute_result"
    }
   ],
   "source": [
    "'pepas' in ['ana','luis','pepa']"
   ]
  },
  {
   "cell_type": "markdown",
   "metadata": {},
   "source": [
    "Buscar una palabra en un texto. "
   ]
  },
  {
   "cell_type": "code",
   "execution_count": 95,
   "metadata": {},
   "outputs": [],
   "source": [
    "def find(text, word):\n",
    "    \"\"\"\n",
    "    This function searches the word in text. The function returns the position of the\n",
    "    word in the text. If the word is not in the text, the function returns -1\n",
    "    \n",
    "    Parameters\n",
    "    ----------\n",
    "    text : str\n",
    "        Text\n",
    "    word : str\n",
    "        Word\n",
    "        \n",
    "    Returns\n",
    "    -------\n",
    "    int\n",
    "        Position of word in text, or -1 if the word does not appear in text\n",
    "\n",
    "    Example\n",
    "    -------\n",
    "    >>> find(\"Esta es mi casa\", \"mi\")\n",
    "    8\n",
    "    >>> find(\"Esta es mi casa\", \"ventana\")\n",
    "    -1\n",
    "    \"\"\"\n",
    "    i = 0\n",
    "    lenw = len(word) #this is just an abbreviature\n",
    "    while (i < len(text)) and (substr(text, i, lenw) != word):\n",
    "        i += 1\n",
    "    if i < len(text):\n",
    "        return i\n",
    "    else:\n",
    "        return -1"
   ]
  },
  {
   "cell_type": "code",
   "execution_count": 96,
   "metadata": {},
   "outputs": [
    {
     "data": {
      "text/plain": [
       "(4, -1, 8, -1)"
      ]
     },
     "execution_count": 96,
     "metadata": {},
     "output_type": "execute_result"
    }
   ],
   "source": [
    "s = \"Las patatas me gustan\"\n",
    "find(s, \"pata\"), find(s, \"zana\"), find(\"Esta es mi casa\", \"mi\"), find(\"Esta es mi casa\", \"ventana\")"
   ]
  },
  {
   "cell_type": "code",
   "execution_count": 97,
   "metadata": {},
   "outputs": [
    {
     "data": {
      "text/plain": [
       "(True, False)"
      ]
     },
     "execution_count": 97,
     "metadata": {},
     "output_type": "execute_result"
    }
   ],
   "source": [
    "\"Pedro\" in \"Pedro y Juan\", \"Lorena\" in \"Pedro y Juan\""
   ]
  },
  {
   "cell_type": "markdown",
   "metadata": {},
   "source": [
    "Para las cadenas de carácteres disponemos del método find, \n",
    "`cadena1.find(cadena2)`\n",
    "devuelve la posición en que `cadena2` se encuentra  como subcadena de `cadena1`. Devuelve -1 si `cadena1` no contiene a `cadena2`."
   ]
  },
  {
   "cell_type": "code",
   "execution_count": 98,
   "metadata": {},
   "outputs": [],
   "source": [
    "texto=\"\"\"En un lugar de la Mancha, de cuyo nombre no quiero acordarme, no ha mucho\n",
    "tiempo que vivía un hidalgo de los de lanza en astillero, adarga antigua,\n",
    "rocín flaco y galgo corredor. Una olla de algo más vaca que carnero,\n",
    "salpicón las más noches, duelos y quebrantos los sábados, lantejas los\n",
    "viernes, algún palomino de añadidura los domingos, consumían las tres\n",
    "partes de su hacienda. El resto della concluían sayo de velarte, calzas de\n",
    "velludo para las fiestas, con sus pantuflos de lo mesmo, y los días de\n",
    "entresemana se honraba con su vellorí de lo más fino. Tenía en su casa una\n",
    "ama que pasaba de los cuarenta, y una sobrina que no llegaba a los veinte,\n",
    "y un mozo de campo y plaza, que así ensillaba el rocín como tomaba la\n",
    "podadera. Frisaba la edad de nuestro hidalgo con los cincuenta años; era de\n",
    "complexión recia, seco de carnes, enjuto de rostro, gran madrugador y amigo\n",
    "de la caza. Quieren decir que tenía el sobrenombre de Quijada, o Quesada,\n",
    "que en esto hay alguna diferencia en los autores que deste caso escriben;\n",
    "aunque, por conjeturas verosímiles, se deja entender que se llamaba\n",
    "Quejana. Pero esto importa poco a nuestro cuento; basta que en la narración\n",
    "dél no se salga un punto de la verdad.\"\"\"\n"
   ]
  },
  {
   "cell_type": "code",
   "execution_count": 99,
   "metadata": {},
   "outputs": [
    {
     "data": {
      "text/plain": [
       "(118, -1)"
      ]
     },
     "execution_count": 99,
     "metadata": {},
     "output_type": "execute_result"
    }
   ],
   "source": [
    "texto.find(\"en\"), texto.find(\"internet\")"
   ]
  },
  {
   "cell_type": "markdown",
   "metadata": {},
   "source": [
    "No tenemos que conformarnos con la primera aparición podemos pedir la aparición posterior a una posición:"
   ]
  },
  {
   "cell_type": "code",
   "execution_count": 100,
   "metadata": {},
   "outputs": [
    {
     "data": {
      "text/plain": [
       "375"
      ]
     },
     "execution_count": 100,
     "metadata": {},
     "output_type": "execute_result"
    }
   ],
   "source": [
    "texto.find(\"en\",120)"
   ]
  },
  {
   "cell_type": "markdown",
   "metadata": {},
   "source": [
    "Con esto y nuestra creciente habilidad en el manejo de los bucles podemos escribir una función que nos dé todas las apariciones."
   ]
  },
  {
   "cell_type": "code",
   "execution_count": 101,
   "metadata": {},
   "outputs": [],
   "source": [
    "def all_occurrences(text,word):\n",
    "    \"\"\"\n",
    "    function that returns the positions of all occurrences of word in text\n",
    "    \n",
    "    Parameters\n",
    "    ----------\n",
    "    text : str\n",
    "        Text\n",
    "    word : str\n",
    "        Word\n",
    "        \n",
    "    Returns\n",
    "    -------\n",
    "    [int]\n",
    "        List with the position of all the occurrences of word in text\n",
    "        \n",
    "    Example\n",
    "    -------\n",
    "    >>> all_occurrences(\"el capitán y el timonel\", \"el\")\n",
    "    [0, 14, 22]\n",
    "    \"\"\"\n",
    "    result = []\n",
    "    last = text.find(word)\n",
    "    while last != -1:\n",
    "        result.append(last)\n",
    "        last = text.find(word, last + 1)\n",
    "    return result"
   ]
  },
  {
   "cell_type": "code",
   "execution_count": 102,
   "metadata": {},
   "outputs": [
    {
     "data": {
      "text/plain": [
       "([118,\n",
       "  375,\n",
       "  504,\n",
       "  559,\n",
       "  564,\n",
       "  605,\n",
       "  690,\n",
       "  782,\n",
       "  834,\n",
       "  893,\n",
       "  907,\n",
       "  919,\n",
       "  954,\n",
       "  978,\n",
       "  984,\n",
       "  1020,\n",
       "  1068,\n",
       "  1071,\n",
       "  1136,\n",
       "  1152],\n",
       " [0, 13, 21])"
      ]
     },
     "execution_count": 102,
     "metadata": {},
     "output_type": "execute_result"
    }
   ],
   "source": [
    "all_occurrences(texto,\"en\"), all_occurrences(\"el capitán y el timonel\", \"el\")"
   ]
  },
  {
   "cell_type": "markdown",
   "metadata": {},
   "source": [
    "## Cuando los elementos están ordenados"
   ]
  },
  {
   "cell_type": "markdown",
   "metadata": {},
   "source": [
    "Si nuestra lista está ordenada las búsquedas pueden ser mas eficientes. Antes de llegar al final podemos saber que el elemento no está.\n"
   ]
  },
  {
   "cell_type": "code",
   "execution_count": 103,
   "metadata": {},
   "outputs": [],
   "source": [
    "def search_ord(e,l):\n",
    "    \"\"\"\n",
    "    fuction that indicates if the list l contains the element e\n",
    "    \n",
    "    Parameters\n",
    "    ----------\n",
    "    e : x\n",
    "        Element that can be compared using <=\n",
    "    l : [x]\n",
    "        Ordered list of values of type x\n",
    "    \n",
    "    Returns\n",
    "    -------\n",
    "    bool\n",
    "        Whether e appears in l or not\n",
    "        \n",
    "    Example\n",
    "    -------\n",
    "    >>> search_ord( 3, [1,3,4,9])\n",
    "    True    \n",
    "    \"\"\"\n",
    "    i = 0\n",
    "    while (i < len(l)) and (l[i] < e):\n",
    "        i = i + 1\n",
    "    return (i < len(l)) and (e == l[i])"
   ]
  },
  {
   "cell_type": "code",
   "execution_count": 104,
   "metadata": {},
   "outputs": [
    {
     "data": {
      "text/plain": [
       "True"
      ]
     },
     "execution_count": 104,
     "metadata": {},
     "output_type": "execute_result"
    }
   ],
   "source": [
    "search_ord( 3, [1,3,4,9])"
   ]
  },
  {
   "cell_type": "markdown",
   "metadata": {},
   "source": [
    "Lo podemos mejorar bastante. La idea es parecida a la forma en que buscamos en un diccionario. Supongamos que buscamos \"marmota\". Abrimos el diccionario por la mitad\n",
    "y nos encontramos con la palabra \"integridad\" en la página 272, sabemos  que está entre aquí y el final. Probamos en la mitad entre la 172 y el final y nos encontramos con \"paz\" en la 351, siguiendo el proceso encontramos muy rápido la palabra ....... Nuestro caso es más fácil pues cada número (índice de la lista) sólo tenemos un elemento."
   ]
  },
  {
   "cell_type": "code",
   "execution_count": 108,
   "metadata": {},
   "outputs": [],
   "source": [
    "def binary_search_bad(e, l):\n",
    "    i = 0\n",
    "    j = len(l) - 1\n",
    "    result = -1\n",
    "    while (i <= j) and (result==-1):\n",
    "        med = (i + j) // 2\n",
    "        if l[med] == e:\n",
    "            result = med\n",
    "        elif l[med] < e:\n",
    "            i = med \n",
    "        else:\n",
    "            j = med \n",
    "    return result"
   ]
  },
  {
   "cell_type": "markdown",
   "metadata": {},
   "source": [
    "Esta función está mal porque en algunos casos produce bucles infinitos"
   ]
  },
  {
   "cell_type": "code",
   "execution_count": 106,
   "metadata": {},
   "outputs": [
    {
     "ename": "KeyboardInterrupt",
     "evalue": "",
     "output_type": "error",
     "traceback": [
      "\u001b[0;31m---------------------------------------------------------------------------\u001b[0m",
      "\u001b[0;31mKeyboardInterrupt\u001b[0m                         Traceback (most recent call last)",
      "\u001b[0;32m<ipython-input-106-6c0796a73615>\u001b[0m in \u001b[0;36m<module>\u001b[0;34m()\u001b[0m\n\u001b[0;32m----> 1\u001b[0;31m \u001b[0mbinary_search_bad\u001b[0m\u001b[0;34m(\u001b[0m\u001b[0;36m4\u001b[0m\u001b[0;34m,\u001b[0m\u001b[0;34m[\u001b[0m\u001b[0;36m0\u001b[0m\u001b[0;34m,\u001b[0m\u001b[0;36m1\u001b[0m\u001b[0;34m,\u001b[0m\u001b[0;36m2\u001b[0m\u001b[0;34m,\u001b[0m\u001b[0;36m3\u001b[0m\u001b[0;34m,\u001b[0m\u001b[0;36m4\u001b[0m\u001b[0;34m]\u001b[0m\u001b[0;34m)\u001b[0m\u001b[0;34m\u001b[0m\u001b[0m\n\u001b[0m",
      "\u001b[0;32m<ipython-input-105-7da336fa7a09>\u001b[0m in \u001b[0;36mbinary_search_bad\u001b[0;34m(e, l)\u001b[0m\n\u001b[1;32m      3\u001b[0m     \u001b[0mj\u001b[0m \u001b[0;34m=\u001b[0m \u001b[0mlen\u001b[0m\u001b[0;34m(\u001b[0m\u001b[0ml\u001b[0m\u001b[0;34m)\u001b[0m \u001b[0;34m-\u001b[0m \u001b[0;36m1\u001b[0m\u001b[0;34m\u001b[0m\u001b[0m\n\u001b[1;32m      4\u001b[0m     \u001b[0mresult\u001b[0m \u001b[0;34m=\u001b[0m \u001b[0;34m-\u001b[0m\u001b[0;36m1\u001b[0m\u001b[0;34m\u001b[0m\u001b[0m\n\u001b[0;32m----> 5\u001b[0;31m     \u001b[0;32mwhile\u001b[0m \u001b[0;34m(\u001b[0m\u001b[0mi\u001b[0m \u001b[0;34m<=\u001b[0m \u001b[0mj\u001b[0m\u001b[0;34m)\u001b[0m \u001b[0;32mand\u001b[0m \u001b[0;34m(\u001b[0m\u001b[0mresult\u001b[0m\u001b[0;34m==\u001b[0m\u001b[0;34m-\u001b[0m\u001b[0;36m1\u001b[0m\u001b[0;34m)\u001b[0m\u001b[0;34m:\u001b[0m\u001b[0;34m\u001b[0m\u001b[0m\n\u001b[0m\u001b[1;32m      6\u001b[0m         \u001b[0mmed\u001b[0m \u001b[0;34m=\u001b[0m \u001b[0;34m(\u001b[0m\u001b[0mi\u001b[0m \u001b[0;34m+\u001b[0m \u001b[0mj\u001b[0m\u001b[0;34m)\u001b[0m \u001b[0;34m//\u001b[0m \u001b[0;36m2\u001b[0m\u001b[0;34m\u001b[0m\u001b[0m\n\u001b[1;32m      7\u001b[0m         \u001b[0;32mif\u001b[0m \u001b[0ml\u001b[0m\u001b[0;34m[\u001b[0m\u001b[0mmed\u001b[0m\u001b[0;34m]\u001b[0m \u001b[0;34m==\u001b[0m \u001b[0me\u001b[0m\u001b[0;34m:\u001b[0m\u001b[0;34m\u001b[0m\u001b[0m\n",
      "\u001b[0;31mKeyboardInterrupt\u001b[0m: "
     ]
    }
   ],
   "source": [
    "binary_search_bad(4,[0,1,2,3,4])"
   ]
  },
  {
   "cell_type": "code",
   "execution_count": 107,
   "metadata": {},
   "outputs": [
    {
     "ename": "KeyboardInterrupt",
     "evalue": "",
     "output_type": "error",
     "traceback": [
      "\u001b[0;31m---------------------------------------------------------------------------\u001b[0m",
      "\u001b[0;31mKeyboardInterrupt\u001b[0m                         Traceback (most recent call last)",
      "\u001b[0;32m<ipython-input-107-7af83662413b>\u001b[0m in \u001b[0;36m<module>\u001b[0;34m()\u001b[0m\n\u001b[0;32m----> 1\u001b[0;31m \u001b[0mbinary_search_bad\u001b[0m\u001b[0;34m(\u001b[0m\u001b[0;36m1\u001b[0m\u001b[0;34m,\u001b[0m\u001b[0;34m[\u001b[0m\u001b[0;36m0\u001b[0m\u001b[0;34m,\u001b[0m\u001b[0;36m1\u001b[0m\u001b[0;34m]\u001b[0m\u001b[0;34m)\u001b[0m\u001b[0;34m\u001b[0m\u001b[0m\n\u001b[0m",
      "\u001b[0;32m<ipython-input-105-7da336fa7a09>\u001b[0m in \u001b[0;36mbinary_search_bad\u001b[0;34m(e, l)\u001b[0m\n\u001b[1;32m      4\u001b[0m     \u001b[0mresult\u001b[0m \u001b[0;34m=\u001b[0m \u001b[0;34m-\u001b[0m\u001b[0;36m1\u001b[0m\u001b[0;34m\u001b[0m\u001b[0m\n\u001b[1;32m      5\u001b[0m     \u001b[0;32mwhile\u001b[0m \u001b[0;34m(\u001b[0m\u001b[0mi\u001b[0m \u001b[0;34m<=\u001b[0m \u001b[0mj\u001b[0m\u001b[0;34m)\u001b[0m \u001b[0;32mand\u001b[0m \u001b[0;34m(\u001b[0m\u001b[0mresult\u001b[0m\u001b[0;34m==\u001b[0m\u001b[0;34m-\u001b[0m\u001b[0;36m1\u001b[0m\u001b[0;34m)\u001b[0m\u001b[0;34m:\u001b[0m\u001b[0;34m\u001b[0m\u001b[0m\n\u001b[0;32m----> 6\u001b[0;31m         \u001b[0mmed\u001b[0m \u001b[0;34m=\u001b[0m \u001b[0;34m(\u001b[0m\u001b[0mi\u001b[0m \u001b[0;34m+\u001b[0m \u001b[0mj\u001b[0m\u001b[0;34m)\u001b[0m \u001b[0;34m//\u001b[0m \u001b[0;36m2\u001b[0m\u001b[0;34m\u001b[0m\u001b[0m\n\u001b[0m\u001b[1;32m      7\u001b[0m         \u001b[0;32mif\u001b[0m \u001b[0ml\u001b[0m\u001b[0;34m[\u001b[0m\u001b[0mmed\u001b[0m\u001b[0;34m]\u001b[0m \u001b[0;34m==\u001b[0m \u001b[0me\u001b[0m\u001b[0;34m:\u001b[0m\u001b[0;34m\u001b[0m\u001b[0m\n\u001b[1;32m      8\u001b[0m             \u001b[0mresult\u001b[0m \u001b[0;34m=\u001b[0m \u001b[0mmed\u001b[0m\u001b[0;34m\u001b[0m\u001b[0m\n",
      "\u001b[0;31mKeyboardInterrupt\u001b[0m: "
     ]
    }
   ],
   "source": [
    "binary_search_bad(1,[0,1])"
   ]
  },
  {
   "cell_type": "code",
   "execution_count": 112,
   "metadata": {},
   "outputs": [],
   "source": [
    "def binary_search(elem ,lst):\n",
    "    \"\"\"\n",
    "    This indicates if the list lst contains the element elem using binary search.\n",
    "    If if it contains the eleme, it returns the first occurrence of elem in the list.\n",
    "    It returns -1 otherwise\n",
    "    \n",
    "    Parameters\n",
    "    ----------\n",
    "    elem : x\n",
    "        Element of type x. It must be comparable with <=\n",
    "    llst : [x]\n",
    "        Ordered list of values of type x\n",
    "        \n",
    "    Returns\n",
    "    -------\n",
    "      int\n",
    "        The first occurence of elem in lst, -1 if elem does not appear in lst\n",
    "        \n",
    "    Example\n",
    "    -------\n",
    "    >>> binary_search(8,[3,4,5,8,10])\n",
    "    3\n",
    "    >>> binary_search(7,[3,4,5,8,10])\n",
    "    -1\n",
    "    \n",
    "    \"\"\"\n",
    "    # in the conditions in the comments \n",
    "    # we assume l[-1] = -infty and l[len(l)] = +infty\n",
    "    inf = -1\n",
    "    sup = len(lst)\n",
    "    # li[linf]< e <= ls[lsup]\n",
    "    result = False\n",
    "    while inf+1 < sup:\n",
    "        med = (inf + sup) // 2\n",
    "        # sup-inf > sup-med, sub-inf > med-inf\n",
    "        if lst[med] < elem:\n",
    "            inf = med\n",
    "        else: # elem <= lst[med] \n",
    "            sup = med\n",
    "    if 0<=sup and sup<len(lst) and lst[sup]==elem:\n",
    "        return sup\n",
    "    else:\n",
    "        return -1"
   ]
  },
  {
   "cell_type": "markdown",
   "metadata": {},
   "source": [
    "A pesar de haberlo pensado bien puede haber fallos. Debemos comprobar distintos casos. Primero que elemento esté"
   ]
  },
  {
   "cell_type": "code",
   "execution_count": 126,
   "metadata": {},
   "outputs": [
    {
     "name": "stdout",
     "output_type": "stream",
     "text": [
      "0\n",
      "0\n",
      "0\n",
      "3\n",
      "3\n",
      "3\n",
      "3\n",
      "7\n",
      "7\n",
      "9\n",
      "10\n"
     ]
    }
   ],
   "source": [
    "l=[3,3,3,4,4,4,4,5,5,8,10]\n",
    "for a in l:\n",
    "    print(binary_search(a,l))"
   ]
  },
  {
   "cell_type": "markdown",
   "metadata": {},
   "source": [
    "Luego que el elemento no esté"
   ]
  },
  {
   "cell_type": "code",
   "execution_count": 117,
   "metadata": {},
   "outputs": [
    {
     "name": "stdout",
     "output_type": "stream",
     "text": [
      "4 -1\n",
      "6 -1\n",
      "8 -1\n",
      "10 -1\n"
     ]
    }
   ],
   "source": [
    "l = [3,5,7,9,11]\n",
    "for i in range(1,len(l)):\n",
    "    elem = (l[i] + l[i-1]) // 2\n",
    "    print(elem, binary_search(elem,l))"
   ]
  },
  {
   "cell_type": "markdown",
   "metadata": {},
   "source": [
    "Que esté por debajo"
   ]
  },
  {
   "cell_type": "code",
   "execution_count": 120,
   "metadata": {},
   "outputs": [
    {
     "data": {
      "text/plain": [
       "-1"
      ]
     },
     "execution_count": 120,
     "metadata": {},
     "output_type": "execute_result"
    }
   ],
   "source": [
    "binary_search(1,[3,4,5,8,10])"
   ]
  },
  {
   "cell_type": "markdown",
   "metadata": {},
   "source": [
    "Que esté por encima"
   ]
  },
  {
   "cell_type": "code",
   "execution_count": 121,
   "metadata": {},
   "outputs": [
    {
     "data": {
      "text/plain": [
       "-1"
      ]
     },
     "execution_count": 121,
     "metadata": {},
     "output_type": "execute_result"
    }
   ],
   "source": [
    "binary_search(11,[3,4,5,8,10])"
   ]
  },
  {
   "cell_type": "markdown",
   "metadata": {},
   "source": [
    "Que funcione con una lista de longitud 1"
   ]
  },
  {
   "cell_type": "code",
   "execution_count": 123,
   "metadata": {},
   "outputs": [
    {
     "data": {
      "text/plain": [
       "(0, -1, -1)"
      ]
     },
     "execution_count": 123,
     "metadata": {},
     "output_type": "execute_result"
    }
   ],
   "source": [
    "binary_search(1,[1]), binary_search(0,[1]), binary_search(2,[1])"
   ]
  },
  {
   "cell_type": "markdown",
   "metadata": {},
   "source": [
    "Que funcione con una lista de longitud 0"
   ]
  },
  {
   "cell_type": "code",
   "execution_count": 124,
   "metadata": {},
   "outputs": [
    {
     "data": {
      "text/plain": [
       "-1"
      ]
     },
     "execution_count": 124,
     "metadata": {},
     "output_type": "execute_result"
    }
   ],
   "source": [
    "binary_search(1,[])"
   ]
  }
 ],
 "metadata": {
  "kernelspec": {
   "display_name": "Python 3",
   "language": "python",
   "name": "python3"
  },
  "language_info": {
   "codemirror_mode": {
    "name": "ipython",
    "version": 3
   },
   "file_extension": ".py",
   "mimetype": "text/x-python",
   "name": "python",
   "nbconvert_exporter": "python",
   "pygments_lexer": "ipython3",
   "version": "3.5.3"
  }
 },
 "nbformat": 4,
 "nbformat_minor": 1
}
