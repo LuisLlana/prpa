{
 "cells": [
  {
   "cell_type": "markdown",
   "metadata": {},
   "source": [
    "# CONDICIONALES"
   ]
  },
  {
   "cell_type": "markdown",
   "metadata": {},
   "source": [
    "## Un condicional simple"
   ]
  },
  {
   "cell_type": "code",
   "execution_count": 1,
   "metadata": {},
   "outputs": [],
   "source": [
    "def abs(x):\n",
    "    \"\"\"\n",
    "    Returns the absolute value of x\n",
    "    \n",
    "    Parameters\n",
    "    ----------\n",
    "    x : int\n",
    "        A number\n",
    "    Returns\n",
    "    -------\n",
    "    int \n",
    "        the absolute value of x\n",
    "    \"\"\"\n",
    "    if x < 0:\n",
    "      # cambio de signo el dato de entrada\n",
    "      x = -x\n",
    "    return x"
   ]
  },
  {
   "cell_type": "code",
   "execution_count": 2,
   "metadata": {},
   "outputs": [
    {
     "data": {
      "text/plain": [
       "10"
      ]
     },
     "execution_count": 2,
     "metadata": {},
     "output_type": "execute_result"
    }
   ],
   "source": [
    "abs(10)"
   ]
  },
  {
   "cell_type": "code",
   "execution_count": 3,
   "metadata": {},
   "outputs": [
    {
     "data": {
      "text/plain": [
       "10"
      ]
     },
     "execution_count": 3,
     "metadata": {},
     "output_type": "execute_result"
    }
   ],
   "source": [
    "abs(-10)"
   ]
  },
  {
   "cell_type": "markdown",
   "metadata": {},
   "source": [
    "Consideramos **la negación**"
   ]
  },
  {
   "cell_type": "code",
   "execution_count": 4,
   "metadata": {},
   "outputs": [],
   "source": [
    "def abs(x):\n",
    "    \"\"\"\n",
    "    Returns the absolute value of x\n",
    "    \n",
    "    Parameters\n",
    "    ----------\n",
    "    x : int\n",
    "        A number\n",
    "    Returns\n",
    "    -------\n",
    "    int \n",
    "        the absolute value of x\n",
    "    \"\"\"\n",
    "    if x < 0:\n",
    "        return -x\n",
    "    else:\n",
    "        return x"
   ]
  },
  {
   "cell_type": "code",
   "execution_count": 5,
   "metadata": {},
   "outputs": [
    {
     "data": {
      "text/plain": [
       "6"
      ]
     },
     "execution_count": 5,
     "metadata": {},
     "output_type": "execute_result"
    }
   ],
   "source": [
    "abs(-6)"
   ]
  },
  {
   "cell_type": "code",
   "execution_count": 6,
   "metadata": {},
   "outputs": [
    {
     "data": {
      "text/plain": [
       "7"
      ]
     },
     "execution_count": 6,
     "metadata": {},
     "output_type": "execute_result"
    }
   ],
   "source": [
    "abs(7)"
   ]
  },
  {
   "cell_type": "markdown",
   "metadata": {},
   "source": [
    "Otro ejemplo"
   ]
  },
  {
   "cell_type": "code",
   "execution_count": 7,
   "metadata": {},
   "outputs": [],
   "source": [
    "def max_min(x, y):\n",
    "    if x < y :\n",
    "        max = y\n",
    "        min = x\n",
    "    else:\n",
    "        max = x\n",
    "        min = y\n",
    "    return max, min\n"
   ]
  },
  {
   "cell_type": "markdown",
   "metadata": {},
   "source": [
    "## Podemos anidar condicionales"
   ]
  },
  {
   "cell_type": "code",
   "execution_count": 8,
   "metadata": {},
   "outputs": [],
   "source": [
    "def degree(a, b, c):\n",
    "    \"\"\"\n",
    "    Returns the degree of the polynomial a*x^2+b*x+c\n",
    "    \n",
    "    Parameters\n",
    "    ----------\n",
    "    a,b,c : float\n",
    "            Coefficients of polynomial\n",
    "    \n",
    "    Returns\n",
    "    -------\n",
    "    int \n",
    "        Degree of the polynomial \n",
    "    \"\"\"\n",
    "    if a == 0:\n",
    "        if b == 0:\n",
    "            result = 0\n",
    "        else:\n",
    "            result = 1\n",
    "    else:\n",
    "        result = 2\n",
    "    return result"
   ]
  },
  {
   "cell_type": "code",
   "execution_count": 9,
   "metadata": {},
   "outputs": [
    {
     "data": {
      "text/plain": [
       "(2, 1, 2, 0)"
      ]
     },
     "execution_count": 9,
     "metadata": {},
     "output_type": "execute_result"
    }
   ],
   "source": [
    "degree(2, 3, 4), degree(0, 1, 2), degree(1, 0, 0),degree(0, 0, 1)"
   ]
  },
  {
   "cell_type": "markdown",
   "metadata": {},
   "source": [
    "## Elecciones múltiples"
   ]
  },
  {
   "cell_type": "code",
   "execution_count": 10,
   "metadata": {},
   "outputs": [],
   "source": [
    "def grade(mark):\n",
    "    \"\"\"\n",
    "    Converts the numerical grade to the Spanish word\n",
    "    \n",
    "    Parameters\n",
    "    ----------\n",
    "    mark : float\n",
    "        the mark to be translated into a word\n",
    "    \n",
    "    Returns\n",
    "    -------\n",
    "    str \n",
    "        the Spanish word for the numerical mark\n",
    "        \n",
    "    Precondition\n",
    "    ------------\n",
    "    mark >= 0 and mark <= 10\n",
    "    \"\"\"\n",
    "    if mark < 5:\n",
    "        return \"Suspenso\"\n",
    "    elif mark < 6:\n",
    "        return \"Aprobado\"\n",
    "    elif mark < 9:\n",
    "        return \"Notable\"\n",
    "    else:\n",
    "        return \"Sobresaliente\""
   ]
  },
  {
   "cell_type": "code",
   "execution_count": 11,
   "metadata": {},
   "outputs": [
    {
     "data": {
      "text/plain": [
       "('Sobresaliente', 'Suspenso', 'Suspenso', 'Suspenso', 'Notable', 'Aprobado')"
      ]
     },
     "execution_count": 11,
     "metadata": {},
     "output_type": "execute_result"
    }
   ],
   "source": [
    "grade(10), grade(1.23), grade(3.45), grade(4.999), grade(7), grade(5)"
   ]
  },
  {
   "cell_type": "markdown",
   "metadata": {},
   "source": [
    "## Otro ejemplo más complicado "
   ]
  },
  {
   "cell_type": "code",
   "execution_count": 12,
   "metadata": {},
   "outputs": [],
   "source": [
    "def solve_linear_system(a, b, c, d, e, f):\n",
    "    \"\"\"\n",
    "    Solves the linear system of equations:\n",
    "         a*x + b*y = e\n",
    "         c*x + d*y = f\n",
    "    \n",
    "    Parameters\n",
    "    ----------\n",
    "    a,b,c,d,e,f : float\n",
    "        Coefficients of the ecuations\n",
    "    \n",
    "    Returns\n",
    "    -------\n",
    "    (float,float)\n",
    "        Pair of values (x,y) that solve the ecuations\n",
    "    \n",
    "    Precondition\n",
    "    ------------\n",
    "      a*d - b*c != 0\n",
    "    \"\"\"\n",
    "    if a == 0:\n",
    "        y = e / b\n",
    "        x = (f - d*y) / c\n",
    "    else:\n",
    "        y = (a*f - c*e)/(-c*b + a*d)\n",
    "        x = (e - b*y) / a \n",
    "    return x, y"
   ]
  },
  {
   "cell_type": "code",
   "execution_count": 13,
   "metadata": {},
   "outputs": [
    {
     "data": {
      "text/plain": [
       "(1.0, 1.0)"
      ]
     },
     "execution_count": 13,
     "metadata": {},
     "output_type": "execute_result"
    }
   ],
   "source": [
    "solve_linear_system(1.0, 1.0, 0.0, 1.0, 2.0, 1.0)"
   ]
  },
  {
   "cell_type": "markdown",
   "metadata": {},
   "source": [
    "## Errores comunes"
   ]
  },
  {
   "cell_type": "code",
   "execution_count": 14,
   "metadata": {},
   "outputs": [
    {
     "data": {
      "text/plain": [
       "False"
      ]
     },
     "execution_count": 14,
     "metadata": {},
     "output_type": "execute_result"
    }
   ],
   "source": [
    "def abs_wrong(x):\n",
    "    if x < 0:\n",
    "        return -x\n",
    "    if x > 0:\n",
    "        return x\n",
    "abs_wrong(0)==0"
   ]
  },
  {
   "cell_type": "markdown",
   "metadata": {},
   "source": [
    "Corolario: Las elecciones múltiples deben ir con \"if .... elif ... elif ... else\""
   ]
  }
 ],
 "metadata": {
  "kernelspec": {
   "display_name": "Python 3",
   "language": "python",
   "name": "python3"
  },
  "language_info": {
   "codemirror_mode": {
    "name": "ipython",
    "version": 3
   },
   "file_extension": ".py",
   "mimetype": "text/x-python",
   "name": "python",
   "nbconvert_exporter": "python",
   "pygments_lexer": "ipython3",
   "version": "3.5.3"
  }
 },
 "nbformat": 4,
 "nbformat_minor": 1
}
